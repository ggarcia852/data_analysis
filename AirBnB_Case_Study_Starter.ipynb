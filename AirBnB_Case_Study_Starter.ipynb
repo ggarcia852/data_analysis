{
 "cells": [
  {
   "cell_type": "markdown",
   "metadata": {},
   "source": [
    "# AirBnB NY Locations Data Case Study\n",
    "\n",
    "In this final project, you task will be to take the data provided and find evidence to answer the following questions.\n",
    "\n",
    "1. How many neighborhood groups are there and which shows up the most?\n",
    "2. Are private rooms the most popular in Manhattan?\n",
    "3. Who are the top 10 busiest hosts based on number of reviews per month?\n",
    "4. Which neighorhood group has the highest average price? Plot the average prices in a professional looking bar chart\n",
    "5. What is the most expensive neighbourhood in each neighbourhood group?\n",
    "6. Which host has the highest minimum rental? *minimal rental is based on price and minimum nights\n",
    "7. Who currently has no (zero) availability with a review count of 100 or more?\n",
    "8. If each host rents all of their properties for the night, which 5 make the most that night?\n",
    "9. When did Danielle from Queens last receive a review?\n",
    "10. Display a bar chart showing the number of each type of room in the Bronx\n",
    "\n",
    "You will be given **4 hours** to complete this assignment. \n",
    "**Be Advised** I will go dark for this entire assignment time period. That said, any questions that you would like to ask about the data, or the project **MUST** be asked before the time starts. Once the time has started, I can no longer give information.\n",
    "\n",
    "This is to simulate what you will face when you are out in the wild. \n",
    "\n",
    "Happy Coding!"
   ]
  },
  {
   "cell_type": "code",
   "execution_count": 2,
   "metadata": {},
   "outputs": [],
   "source": [
    "import numpy as np\n",
    "import pandas as pd\n",
    "import matplotlib.pyplot as plt"
   ]
  },
  {
   "cell_type": "code",
   "execution_count": 3,
   "metadata": {
    "scrolled": true
   },
   "outputs": [],
   "source": [
    "ab = pd.read_csv('./AB_NYC_2019.csv')"
   ]
  },
  {
   "cell_type": "code",
   "execution_count": 4,
   "metadata": {},
   "outputs": [
    {
     "data": {
      "text/plain": [
       "neighbourhood_group\n",
       "Manhattan        21661\n",
       "Brooklyn         20104\n",
       "Queens            5666\n",
       "Bronx             1091\n",
       "Staten Island      373\n",
       "Name: id, dtype: int64"
      ]
     },
     "execution_count": 4,
     "metadata": {},
     "output_type": "execute_result"
    }
   ],
   "source": [
    "# How many neighbourhood groups / which shows up the most\n",
    "\n",
    "ng = ab.groupby('neighbourhood_group').count()\n",
    "ng['id'].sort_values(ascending=False)"
   ]
  },
  {
   "cell_type": "code",
   "execution_count": 5,
   "metadata": {},
   "outputs": [
    {
     "data": {
      "text/html": [
       "<div>\n",
       "<style scoped>\n",
       "    .dataframe tbody tr th:only-of-type {\n",
       "        vertical-align: middle;\n",
       "    }\n",
       "\n",
       "    .dataframe tbody tr th {\n",
       "        vertical-align: top;\n",
       "    }\n",
       "\n",
       "    .dataframe thead th {\n",
       "        text-align: right;\n",
       "    }\n",
       "</style>\n",
       "<table border=\"1\" class=\"dataframe\">\n",
       "  <thead>\n",
       "    <tr style=\"text-align: right;\">\n",
       "      <th></th>\n",
       "      <th></th>\n",
       "      <th>id</th>\n",
       "    </tr>\n",
       "    <tr>\n",
       "      <th>neighbourhood_group</th>\n",
       "      <th>room_type</th>\n",
       "      <th></th>\n",
       "    </tr>\n",
       "  </thead>\n",
       "  <tbody>\n",
       "    <tr>\n",
       "      <th rowspan=\"3\" valign=\"top\">Bronx</th>\n",
       "      <th>Entire home/apt</th>\n",
       "      <td>379</td>\n",
       "    </tr>\n",
       "    <tr>\n",
       "      <th>Private room</th>\n",
       "      <td>652</td>\n",
       "    </tr>\n",
       "    <tr>\n",
       "      <th>Shared room</th>\n",
       "      <td>60</td>\n",
       "    </tr>\n",
       "    <tr>\n",
       "      <th rowspan=\"3\" valign=\"top\">Brooklyn</th>\n",
       "      <th>Entire home/apt</th>\n",
       "      <td>9559</td>\n",
       "    </tr>\n",
       "    <tr>\n",
       "      <th>Private room</th>\n",
       "      <td>10132</td>\n",
       "    </tr>\n",
       "    <tr>\n",
       "      <th>Shared room</th>\n",
       "      <td>413</td>\n",
       "    </tr>\n",
       "    <tr>\n",
       "      <th rowspan=\"3\" valign=\"top\">Manhattan</th>\n",
       "      <th>Entire home/apt</th>\n",
       "      <td>13199</td>\n",
       "    </tr>\n",
       "    <tr>\n",
       "      <th>Private room</th>\n",
       "      <td>7982</td>\n",
       "    </tr>\n",
       "    <tr>\n",
       "      <th>Shared room</th>\n",
       "      <td>480</td>\n",
       "    </tr>\n",
       "    <tr>\n",
       "      <th rowspan=\"3\" valign=\"top\">Queens</th>\n",
       "      <th>Entire home/apt</th>\n",
       "      <td>2096</td>\n",
       "    </tr>\n",
       "    <tr>\n",
       "      <th>Private room</th>\n",
       "      <td>3372</td>\n",
       "    </tr>\n",
       "    <tr>\n",
       "      <th>Shared room</th>\n",
       "      <td>198</td>\n",
       "    </tr>\n",
       "    <tr>\n",
       "      <th rowspan=\"3\" valign=\"top\">Staten Island</th>\n",
       "      <th>Entire home/apt</th>\n",
       "      <td>176</td>\n",
       "    </tr>\n",
       "    <tr>\n",
       "      <th>Private room</th>\n",
       "      <td>188</td>\n",
       "    </tr>\n",
       "    <tr>\n",
       "      <th>Shared room</th>\n",
       "      <td>9</td>\n",
       "    </tr>\n",
       "  </tbody>\n",
       "</table>\n",
       "</div>"
      ],
      "text/plain": [
       "                                        id\n",
       "neighbourhood_group room_type             \n",
       "Bronx               Entire home/apt    379\n",
       "                    Private room       652\n",
       "                    Shared room         60\n",
       "Brooklyn            Entire home/apt   9559\n",
       "                    Private room     10132\n",
       "                    Shared room        413\n",
       "Manhattan           Entire home/apt  13199\n",
       "                    Private room      7982\n",
       "                    Shared room        480\n",
       "Queens              Entire home/apt   2096\n",
       "                    Private room      3372\n",
       "                    Shared room        198\n",
       "Staten Island       Entire home/apt    176\n",
       "                    Private room       188\n",
       "                    Shared room          9"
      ]
     },
     "execution_count": 5,
     "metadata": {},
     "output_type": "execute_result"
    }
   ],
   "source": [
    "# Are private rooms the most popular in Manhattan?\n",
    "\n",
    "rt = ab[['neighbourhood_group', 'room_type', 'id']].groupby(['neighbourhood_group', 'room_type']).count()\n",
    "rt"
   ]
  },
  {
   "cell_type": "code",
   "execution_count": 8,
   "metadata": {
    "scrolled": true
   },
   "outputs": [
    {
     "data": {
      "text/html": [
       "<div>\n",
       "<style scoped>\n",
       "    .dataframe tbody tr th:only-of-type {\n",
       "        vertical-align: middle;\n",
       "    }\n",
       "\n",
       "    .dataframe tbody tr th {\n",
       "        vertical-align: top;\n",
       "    }\n",
       "\n",
       "    .dataframe thead th {\n",
       "        text-align: right;\n",
       "    }\n",
       "</style>\n",
       "<table border=\"1\" class=\"dataframe\">\n",
       "  <thead>\n",
       "    <tr style=\"text-align: right;\">\n",
       "      <th></th>\n",
       "      <th>reviews_per_month</th>\n",
       "    </tr>\n",
       "    <tr>\n",
       "      <th>host_id</th>\n",
       "      <th></th>\n",
       "    </tr>\n",
       "  </thead>\n",
       "  <tbody>\n",
       "    <tr>\n",
       "      <th>219517861</th>\n",
       "      <td>397.56</td>\n",
       "    </tr>\n",
       "    <tr>\n",
       "      <th>244361589</th>\n",
       "      <td>111.72</td>\n",
       "    </tr>\n",
       "    <tr>\n",
       "      <th>232251881</th>\n",
       "      <td>80.63</td>\n",
       "    </tr>\n",
       "    <tr>\n",
       "      <th>26432133</th>\n",
       "      <td>68.02</td>\n",
       "    </tr>\n",
       "    <tr>\n",
       "      <th>137274917</th>\n",
       "      <td>62.89</td>\n",
       "    </tr>\n",
       "    <tr>\n",
       "      <th>224414117</th>\n",
       "      <td>59.10</td>\n",
       "    </tr>\n",
       "    <tr>\n",
       "      <th>156948703</th>\n",
       "      <td>56.44</td>\n",
       "    </tr>\n",
       "    <tr>\n",
       "      <th>344035</th>\n",
       "      <td>56.00</td>\n",
       "    </tr>\n",
       "    <tr>\n",
       "      <th>156684502</th>\n",
       "      <td>54.38</td>\n",
       "    </tr>\n",
       "    <tr>\n",
       "      <th>37312959</th>\n",
       "      <td>53.53</td>\n",
       "    </tr>\n",
       "  </tbody>\n",
       "</table>\n",
       "</div>"
      ],
      "text/plain": [
       "           reviews_per_month\n",
       "host_id                     \n",
       "219517861             397.56\n",
       "244361589             111.72\n",
       "232251881              80.63\n",
       "26432133               68.02\n",
       "137274917              62.89\n",
       "224414117              59.10\n",
       "156948703              56.44\n",
       "344035                 56.00\n",
       "156684502              54.38\n",
       "37312959               53.53"
      ]
     },
     "execution_count": 8,
     "metadata": {},
     "output_type": "execute_result"
    }
   ],
   "source": [
    "# Who are the top 10 busiest hosts based on number of reviews per month?\n",
    "\n",
    "busy = ab[['host_id', 'reviews_per_month']].groupby('host_id').sum()\n",
    "top_10 = busy.sort_values('reviews_per_month', ascending=False).head(10)\n",
    "top_10"
   ]
  },
  {
   "cell_type": "code",
   "execution_count": 256,
   "metadata": {
    "scrolled": true
   },
   "outputs": [
    {
     "name": "stdout",
     "output_type": "stream",
     "text": [
      "                          price\n",
      "neighbourhood_group            \n",
      "Manhattan            196.875814\n",
      "Brooklyn             124.383207\n",
      "Staten Island        114.812332\n",
      "Queens                99.517649\n",
      "Bronx                 87.496792\n"
     ]
    },
    {
     "data": {
      "image/png": "[encoded data removed]",
      "text/plain": [
       "<Figure size 432x288 with 1 Axes>"
      ]
     },
     "metadata": {},
     "output_type": "display_data"
    }
   ],
   "source": [
    "# Which neighborhood group has the highest avg price and plot the average prices in a bar chart\n",
    "\n",
    "a = ab.groupby('neighbourhood_group').mean()\n",
    "avg = a[['price']].sort_values('price', ascending=False)\n",
    "print(avg)\n",
    "\n",
    "x = ['Manhattan', 'Brooklyn', 'Staten Island', 'Queens', 'Bronx']\n",
    "price = [198, 124, 114, 99, 87]\n",
    "\n",
    "plt.bar(x, price)\n",
    "plt.ylabel('Avg Price')\n",
    "\n",
    "plt.show()"
   ]
  },
  {
   "cell_type": "code",
   "execution_count": 9,
   "metadata": {},
   "outputs": [
    {
     "name": "stdout",
     "output_type": "stream",
     "text": [
      "Bronx most expensive:                     price\n",
      "neighbourhood            \n",
      "Riverdale      442.090909\n",
      "=========\n",
      "Queens most expensive:                     price\n",
      "neighbourhood            \n",
      "Neponsit       274.666667\n",
      "=========\n",
      "Brooklyn most expensive:                     price\n",
      "neighbourhood            \n",
      "Sea Gate       487.857143\n",
      "=========\n",
      "Manhattan most expensive:                     price\n",
      "neighbourhood            \n",
      "Tribeca        490.638418\n",
      "=========\n",
      "Staten Island most expensive:                 price\n",
      "neighbourhood        \n",
      "Fort Wadsworth  800.0\n"
     ]
    }
   ],
   "source": [
    "# What is the most expensive neighbourhood in each neighbourhood_group\n",
    "\n",
    "# ab[['neighbourhood_group', 'neighbourhood', 'price']].groupby(['neighbourhood','neighbourhood_group']).sum()\n",
    "\n",
    "br = ab[(ab['neighbourhood_group'] == 'Bronx')]\n",
    "bre = br[['neighbourhood', 'price']].groupby('neighbourhood').mean().sort_values('price', ascending=False).head(1)\n",
    "\n",
    "qu = ab[(ab['neighbourhood_group'] == 'Queens')]\n",
    "que = qu[['neighbourhood', 'price']].groupby('neighbourhood').mean().sort_values('price', ascending=False).head(1)\n",
    "\n",
    "brk = ab[(ab['neighbourhood_group'] == 'Brooklyn')]\n",
    "brke = brk[['neighbourhood', 'price']].groupby('neighbourhood').mean().sort_values('price', ascending=False).head(1)\n",
    "\n",
    "mt = ab[(ab['neighbourhood_group'] == 'Manhattan')]\n",
    "mte = mt[['neighbourhood', 'price']].groupby('neighbourhood').mean().sort_values('price', ascending=False).head(1)\n",
    "\n",
    "si = ab[(ab['neighbourhood_group'] == 'Staten Island')]\n",
    "sie = si[['neighbourhood', 'price']].groupby('neighbourhood').mean().sort_values('price', ascending=False).head(1)\n",
    "\n",
    "print('Bronx most expensive:', bre)\n",
    "print('=========')\n",
    "print('Queens most expensive:', que)\n",
    "print('=========')\n",
    "print('Brooklyn most expensive:', brke)\n",
    "print('=========')\n",
    "print('Manhattan most expensive:', mte)\n",
    "print('=========')\n",
    "print('Staten Island most expensive:', sie)"
   ]
  },
  {
   "cell_type": "code",
   "execution_count": 11,
   "metadata": {},
   "outputs": [
    {
     "data": {
      "text/html": [
       "<div>\n",
       "<style scoped>\n",
       "    .dataframe tbody tr th:only-of-type {\n",
       "        vertical-align: middle;\n",
       "    }\n",
       "\n",
       "    .dataframe tbody tr th {\n",
       "        vertical-align: top;\n",
       "    }\n",
       "\n",
       "    .dataframe thead th {\n",
       "        text-align: right;\n",
       "    }\n",
       "</style>\n",
       "<table border=\"1\" class=\"dataframe\">\n",
       "  <thead>\n",
       "    <tr style=\"text-align: right;\">\n",
       "      <th></th>\n",
       "      <th>host_id</th>\n",
       "      <th>name</th>\n",
       "      <th>price</th>\n",
       "      <th>minimum_nights</th>\n",
       "      <th>min_rental</th>\n",
       "    </tr>\n",
       "  </thead>\n",
       "  <tbody>\n",
       "    <tr>\n",
       "      <th>48043</th>\n",
       "      <td>271248669</td>\n",
       "      <td>Luxury TriBeCa Apartment at an amazing price</td>\n",
       "      <td>6500</td>\n",
       "      <td>180</td>\n",
       "      <td>1170000</td>\n",
       "    </tr>\n",
       "  </tbody>\n",
       "</table>\n",
       "</div>"
      ],
      "text/plain": [
       "         host_id                                          name  price  \\\n",
       "48043  271248669  Luxury TriBeCa Apartment at an amazing price   6500   \n",
       "\n",
       "       minimum_nights  min_rental  \n",
       "48043             180     1170000  "
      ]
     },
     "execution_count": 11,
     "metadata": {},
     "output_type": "execute_result"
    }
   ],
   "source": [
    "# Which host has the highest minimum rental? *minimal rental is based on price and minimum nights\n",
    "\n",
    "ab['min_rental'] = ab['price'] * ab['minimum_nights']\n",
    "ab[['host_id', 'name', 'price', 'minimum_nights', 'min_rental']].sort_values('min_rental', ascending=False).head(1)"
   ]
  },
  {
   "cell_type": "code",
   "execution_count": 12,
   "metadata": {},
   "outputs": [
    {
     "data": {
      "text/html": [
       "<div>\n",
       "<style scoped>\n",
       "    .dataframe tbody tr th:only-of-type {\n",
       "        vertical-align: middle;\n",
       "    }\n",
       "\n",
       "    .dataframe tbody tr th {\n",
       "        vertical-align: top;\n",
       "    }\n",
       "\n",
       "    .dataframe thead th {\n",
       "        text-align: right;\n",
       "    }\n",
       "</style>\n",
       "<table border=\"1\" class=\"dataframe\">\n",
       "  <thead>\n",
       "    <tr style=\"text-align: right;\">\n",
       "      <th></th>\n",
       "      <th>host_id</th>\n",
       "      <th>availability_365</th>\n",
       "      <th>number_of_reviews</th>\n",
       "    </tr>\n",
       "  </thead>\n",
       "  <tbody>\n",
       "    <tr>\n",
       "      <th>8</th>\n",
       "      <td>7490</td>\n",
       "      <td>0</td>\n",
       "      <td>118</td>\n",
       "    </tr>\n",
       "    <tr>\n",
       "      <th>94</th>\n",
       "      <td>79402</td>\n",
       "      <td>0</td>\n",
       "      <td>168</td>\n",
       "    </tr>\n",
       "    <tr>\n",
       "      <th>132</th>\n",
       "      <td>129352</td>\n",
       "      <td>0</td>\n",
       "      <td>193</td>\n",
       "    </tr>\n",
       "    <tr>\n",
       "      <th>174</th>\n",
       "      <td>193722</td>\n",
       "      <td>0</td>\n",
       "      <td>114</td>\n",
       "    </tr>\n",
       "    <tr>\n",
       "      <th>180</th>\n",
       "      <td>67778</td>\n",
       "      <td>0</td>\n",
       "      <td>206</td>\n",
       "    </tr>\n",
       "    <tr>\n",
       "      <th>...</th>\n",
       "      <td>...</td>\n",
       "      <td>...</td>\n",
       "      <td>...</td>\n",
       "    </tr>\n",
       "    <tr>\n",
       "      <th>29581</th>\n",
       "      <td>127740507</td>\n",
       "      <td>0</td>\n",
       "      <td>103</td>\n",
       "    </tr>\n",
       "    <tr>\n",
       "      <th>30461</th>\n",
       "      <td>176185168</td>\n",
       "      <td>0</td>\n",
       "      <td>119</td>\n",
       "    </tr>\n",
       "    <tr>\n",
       "      <th>31250</th>\n",
       "      <td>21074914</td>\n",
       "      <td>0</td>\n",
       "      <td>102</td>\n",
       "    </tr>\n",
       "    <tr>\n",
       "      <th>32670</th>\n",
       "      <td>40119874</td>\n",
       "      <td>0</td>\n",
       "      <td>131</td>\n",
       "    </tr>\n",
       "    <tr>\n",
       "      <th>35014</th>\n",
       "      <td>209549523</td>\n",
       "      <td>0</td>\n",
       "      <td>112</td>\n",
       "    </tr>\n",
       "  </tbody>\n",
       "</table>\n",
       "<p>162 rows × 3 columns</p>\n",
       "</div>"
      ],
      "text/plain": [
       "         host_id  availability_365  number_of_reviews\n",
       "8           7490                 0                118\n",
       "94         79402                 0                168\n",
       "132       129352                 0                193\n",
       "174       193722                 0                114\n",
       "180        67778                 0                206\n",
       "...          ...               ...                ...\n",
       "29581  127740507                 0                103\n",
       "30461  176185168                 0                119\n",
       "31250   21074914                 0                102\n",
       "32670   40119874                 0                131\n",
       "35014  209549523                 0                112\n",
       "\n",
       "[162 rows x 3 columns]"
      ]
     },
     "execution_count": 12,
     "metadata": {},
     "output_type": "execute_result"
    }
   ],
   "source": [
    "# Who has no (zero) availability with a review count of 100 or more\n",
    "\n",
    "z = ab[['host_id', 'availability_365', 'number_of_reviews']]\n",
    "zero = z[(z['availability_365'] == 0) & (z['number_of_reviews'] >= 100)]\n",
    "zero"
   ]
  },
  {
   "cell_type": "code",
   "execution_count": 14,
   "metadata": {},
   "outputs": [
    {
     "data": {
      "text/html": [
       "<div>\n",
       "<style scoped>\n",
       "    .dataframe tbody tr th:only-of-type {\n",
       "        vertical-align: middle;\n",
       "    }\n",
       "\n",
       "    .dataframe tbody tr th {\n",
       "        vertical-align: top;\n",
       "    }\n",
       "\n",
       "    .dataframe thead th {\n",
       "        text-align: right;\n",
       "    }\n",
       "</style>\n",
       "<table border=\"1\" class=\"dataframe\">\n",
       "  <thead>\n",
       "    <tr style=\"text-align: right;\">\n",
       "      <th></th>\n",
       "      <th>price</th>\n",
       "    </tr>\n",
       "    <tr>\n",
       "      <th>host_id</th>\n",
       "      <th></th>\n",
       "    </tr>\n",
       "  </thead>\n",
       "  <tbody>\n",
       "    <tr>\n",
       "      <th>219517861</th>\n",
       "      <td>82795</td>\n",
       "    </tr>\n",
       "    <tr>\n",
       "      <th>107434423</th>\n",
       "      <td>70331</td>\n",
       "    </tr>\n",
       "    <tr>\n",
       "      <th>156158778</th>\n",
       "      <td>37097</td>\n",
       "    </tr>\n",
       "    <tr>\n",
       "      <th>205031545</th>\n",
       "      <td>35294</td>\n",
       "    </tr>\n",
       "    <tr>\n",
       "      <th>30283594</th>\n",
       "      <td>33581</td>\n",
       "    </tr>\n",
       "  </tbody>\n",
       "</table>\n",
       "</div>"
      ],
      "text/plain": [
       "           price\n",
       "host_id         \n",
       "219517861  82795\n",
       "107434423  70331\n",
       "156158778  37097\n",
       "205031545  35294\n",
       "30283594   33581"
      ]
     },
     "execution_count": 14,
     "metadata": {},
     "output_type": "execute_result"
    }
   ],
   "source": [
    "# If each host rents all of their properties for the night, which 5 make the most that night?\n",
    "\n",
    "ab[['host_id', 'price']].groupby('host_id').sum().sort_values('price', ascending=False).head(5)"
   ]
  },
  {
   "cell_type": "code",
   "execution_count": 159,
   "metadata": {},
   "outputs": [
    {
     "data": {
      "text/html": [
       "<div>\n",
       "<style scoped>\n",
       "    .dataframe tbody tr th:only-of-type {\n",
       "        vertical-align: middle;\n",
       "    }\n",
       "\n",
       "    .dataframe tbody tr th {\n",
       "        vertical-align: top;\n",
       "    }\n",
       "\n",
       "    .dataframe thead th {\n",
       "        text-align: right;\n",
       "    }\n",
       "</style>\n",
       "<table border=\"1\" class=\"dataframe\">\n",
       "  <thead>\n",
       "    <tr style=\"text-align: right;\">\n",
       "      <th></th>\n",
       "      <th>host_id</th>\n",
       "      <th>host_name</th>\n",
       "      <th>neighbourhood_group</th>\n",
       "      <th>last_review</th>\n",
       "    </tr>\n",
       "  </thead>\n",
       "  <tbody>\n",
       "    <tr>\n",
       "      <th>22469</th>\n",
       "      <td>26432133</td>\n",
       "      <td>Danielle</td>\n",
       "      <td>Queens</td>\n",
       "      <td>2019-07-08</td>\n",
       "    </tr>\n",
       "  </tbody>\n",
       "</table>\n",
       "</div>"
      ],
      "text/plain": [
       "        host_id host_name neighbourhood_group last_review\n",
       "22469  26432133  Danielle              Queens  2019-07-08"
      ]
     },
     "execution_count": 159,
     "metadata": {},
     "output_type": "execute_result"
    }
   ],
   "source": [
    "# When did Danielle from Queens last receive a review?\n",
    "\n",
    "danielle = ab[(ab['neighbourhood_group'] == 'Queens') & (ab['host_name'] == 'Danielle')]\n",
    "danielle[['host_id', 'host_name', 'neighbourhood_group', 'last_review']].sort_values('last_review', ascending=False).head(1)"
   ]
  },
  {
   "cell_type": "code",
   "execution_count": 272,
   "metadata": {},
   "outputs": [
    {
     "name": "stdout",
     "output_type": "stream",
     "text": [
      "                  id\n",
      "room_type           \n",
      "Entire home/apt  379\n",
      "Private room     652\n",
      "Shared room       60\n"
     ]
    },
    {
     "data": {
      "image/png": "[encoded data removed]",
      "text/plain": [
       "<Figure size 432x288 with 1 Axes>"
      ]
     },
     "metadata": {},
     "output_type": "display_data"
    }
   ],
   "source": [
    "# bar chart showing the number of room types in the Bronx\n",
    "\n",
    "b = ab[(ab['neighbourhood_group'] == 'Bronx')]\n",
    "bx = b[['id', 'room_type']].groupby('room_type').count()\n",
    "print(bx)\n",
    "\n",
    "x = ['Enitre Home', 'Private Room', 'Shared Room']\n",
    "rooms = [379, 652, 60]\n",
    "\n",
    "plt.bar(x, rooms)\n",
    "plt.ylabel('Num of Rooms')\n",
    "\n",
    "plt.show()\n"
   ]
  },
  {
   "cell_type": "markdown",
   "metadata": {},
   "source": [
    "# Final Conclusion\n",
    "\n",
    "In this cell, write your final conclusion for each of the questions asked.\n",
    "\n",
    "Also, if you uncovered some more details that were not asked above, please discribe them here.\n",
    "\n",
    "-- Add your conclusion --"
   ]
  },
  {
   "cell_type": "code",
   "execution_count": null,
   "metadata": {},
   "outputs": [],
   "source": []
  }
 ],
 "metadata": {
  "kernelspec": {
   "display_name": "Python 3",
   "language": "python",
   "name": "python3"
  },
  "language_info": {
   "codemirror_mode": {
    "name": "ipython",
    "version": 3
   },
   "file_extension": ".py",
   "mimetype": "text/x-python",
   "name": "python",
   "nbconvert_exporter": "python",
   "pygments_lexer": "ipython3",
   "version": "3.8.8"
  }
 },
 "nbformat": 4,
 "nbformat_minor": 2
}
